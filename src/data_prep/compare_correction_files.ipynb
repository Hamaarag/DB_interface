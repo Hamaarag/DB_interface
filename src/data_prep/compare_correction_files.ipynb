{
 "cells": [
  {
   "cell_type": "code",
   "execution_count": 85,
   "id": "e8af2c99",
   "metadata": {},
   "outputs": [],
   "source": [
    "import pandas as pd"
   ]
  },
  {
   "cell_type": "code",
   "execution_count": 111,
   "id": "16a8638b",
   "metadata": {},
   "outputs": [
    {
     "name": "stderr",
     "output_type": "stream",
     "text": [
      "C:\\Users\\Ron Chen\\AppData\\Local\\Temp\\ipykernel_22356\\1469092141.py:2: DtypeWarning: Columns (8,29,31,32,33,34) have mixed types. Specify dtype option on import or set low_memory=False.\n",
      "  df2 = pd.read_csv('../../data/Abreed_and_non_breed_post_manual_fix_of_mult_coord_RC.csv')\n"
     ]
    }
   ],
   "source": [
    "df1 = pd.read_csv('../../data/Abreed_and_non_breed_post_manual_fix_of_mult_coord.csv')\n",
    "df2 = pd.read_csv('../../data/Abreed_and_non_breed_post_manual_fix_of_mult_coord_RC.csv')"
   ]
  },
  {
   "cell_type": "code",
   "execution_count": 112,
   "id": "a6b8845f",
   "metadata": {},
   "outputs": [],
   "source": [
    "# Find common columns between the two dataframes\n",
    "common_columns = set(df1.columns) & set(df2.columns)\n",
    "# Convert the set to a list before using it as an indexer\n",
    "df1 = df1[list(common_columns)]\n",
    "# reorder the columns in df1 to match the order in df2\n",
    "df1 = df1[df2.columns]"
   ]
  },
  {
   "cell_type": "code",
   "execution_count": 113,
   "id": "4ca63ec1",
   "metadata": {},
   "outputs": [],
   "source": [
    "# sort both dataframes accounting for possible NAs\n",
    "sort_cols = ['year', 'unit', 'point_name', 'date', 'time', 'SciName', 'protocol', 'date']\n",
    "df1 = df1.sort_values(by=sort_cols, na_position='last')\n",
    "df2 = df2.sort_values(by=sort_cols, na_position='last')"
   ]
  },
  {
   "cell_type": "code",
   "execution_count": 114,
   "id": "36ff6eef",
   "metadata": {},
   "outputs": [],
   "source": [
    "# round coordinates to 6 decimal places\n",
    "df1['lat'] = df1['lat'].round(6)\n",
    "df1['lon'] = df1['lon'].round(6)\n",
    "df2['lat'] = df2['lat'].round(6)\n",
    "df2['lon'] = df2['lon'].round(6)"
   ]
  },
  {
   "cell_type": "code",
   "execution_count": 115,
   "id": "a4b153e6",
   "metadata": {},
   "outputs": [],
   "source": [
    "prob_cols = {'date','monitors_name'}\n",
    "ok_cols = common_columns-prob_cols"
   ]
  },
  {
   "cell_type": "code",
   "execution_count": 116,
   "id": "97005394",
   "metadata": {},
   "outputs": [],
   "source": [
    "# find which rows exist just in one of the dataframes vs. both\n",
    "merged = df1.merge(df2,\n",
    "                   how='outer',\n",
    "                   on=list(ok_cols),\n",
    "                   indicator=True)\n"
   ]
  },
  {
   "cell_type": "code",
   "execution_count": 117,
   "id": "be373028",
   "metadata": {},
   "outputs": [
    {
     "name": "stdout",
     "output_type": "stream",
     "text": [
      "Number of rows in both dataframes: 17014\n",
      "Number of rows unique to df1: 25\n",
      "Number of rows unique to df2: 25\n"
     ]
    }
   ],
   "source": [
    "# filter merged to print the number of rows in both dataframes, unique to df1 and unique to df2\n",
    "print(\"Number of rows in both dataframes:\", merged[merged['_merge'] == 'both'].shape[0])\n",
    "print(\"Number of rows unique to df1:\", merged[merged['_merge'] == 'left_only'].shape[0])\n",
    "print(\"Number of rows unique to df2:\", merged[merged['_merge'] == 'right_only'].shape[0])"
   ]
  },
  {
   "cell_type": "code",
   "execution_count": 118,
   "id": "d9eac91c",
   "metadata": {},
   "outputs": [
    {
     "name": "stdout",
     "output_type": "stream",
     "text": [
      "                      SciName campaign  year  season                  unit  \\\n",
      "1666               Apus melba       T3  2019  Spring  Mediterranean Maquis   \n",
      "1669             Cettia cetti       T3  2019  Spring  Mediterranean Maquis   \n",
      "1678      Clamator glandarius       T2  2017  Spring  Mediterranean Maquis   \n",
      "1682            Columba livia       T1  2015  Spring  Mediterranean Maquis   \n",
      "1687            Corvus cornix       T2  2017  Spring  Mediterranean Maquis   \n",
      "1690            Corvus cornix       T1  2015  Spring  Mediterranean Maquis   \n",
      "1701      Garrulus glandarius       T1  2015  Spring  Mediterranean Maquis   \n",
      "1709              Parus major       T1  2015  Spring  Mediterranean Maquis   \n",
      "1712  Phoenicurus phoenicurus       T3  2019  Spring  Mediterranean Maquis   \n",
      "1724    Streptopelia decaocto       T2  2017  Spring  Mediterranean Maquis   \n",
      "1741            Cinnyris osea       T1  2015  Spring  Mediterranean Maquis   \n",
      "1748    Curruca melanocephala       T2  2017  Spring  Mediterranean Maquis   \n",
      "1766   Pycnonotus xanthopygos       T1  2015  Spring  Mediterranean Maquis   \n",
      "1778    Streptopelia decaocto       T1  2015  Spring  Mediterranean Maquis   \n",
      "1782  Troglodytes troglodytes       T3  2019  Spring  Mediterranean Maquis   \n",
      "1804      Garrulus glandarius       T2  2017  Spring  Mediterranean Maquis   \n",
      "1827         Alectoris chukar       T3  2019  Spring  Mediterranean Maquis   \n",
      "1848      Garrulus glandarius       T3  2019  Spring  Mediterranean Maquis   \n",
      "1859            Cinnyris osea       T3  2019  Spring  Mediterranean Maquis   \n",
      "1866  Troglodytes troglodytes       T1  2015  Spring  Mediterranean Maquis   \n",
      "1868            Turdus merula       T3  2019  Spring  Mediterranean Maquis   \n",
      "1870            Turdus merula       T2  2017  Spring  Mediterranean Maquis   \n",
      "1906          Curruca ruppeli       T1  2015  Spring  Mediterranean Maquis   \n",
      "1924    Curruca melanocephala       T3  2019  Spring  Mediterranean Maquis   \n",
      "1927            Turdus merula       T1  2015  Spring  Mediterranean Maquis   \n",
      "\n",
      "     subunit       site           point_name habitat        lon  ...  dunes  \\\n",
      "1666  Carmel  Beit Oren      Beit Oren Far 9     NaN  34.999244  ...    NaN   \n",
      "1669  Carmel  Beit Oren      Beit Oren Far 9     NaN  34.999244  ...    NaN   \n",
      "1678  Carmel  Beit Oren      Beit Oren Far 8     NaN  35.015731  ...    NaN   \n",
      "1682  Carmel  Beit Oren  Beit Oren Far 9 new     NaN  35.018083  ...    NaN   \n",
      "1687  Carmel  Beit Oren      Beit Oren Far 8     NaN  35.015731  ...    NaN   \n",
      "1690  Carmel  Beit Oren  Beit Oren Far 9 new     NaN  35.018083  ...    NaN   \n",
      "1701  Carmel  Beit Oren  Beit Oren Far 9 new     NaN  35.018083  ...    NaN   \n",
      "1709  Carmel  Beit Oren  Beit Oren Far 9 new     NaN  35.018083  ...    NaN   \n",
      "1712  Carmel  Beit Oren      Beit Oren Far 9     NaN  34.999244  ...    NaN   \n",
      "1724  Carmel  Beit Oren      Beit Oren Far 8     NaN  35.015731  ...    NaN   \n",
      "1741  Carmel  Beit Oren  Beit Oren Far 9 new     NaN  35.018083  ...    NaN   \n",
      "1748  Carmel  Beit Oren      Beit Oren Far 8     NaN  35.015731  ...    NaN   \n",
      "1766  Carmel  Beit Oren  Beit Oren Far 9 new     NaN  35.018083  ...    NaN   \n",
      "1778  Carmel  Beit Oren  Beit Oren Far 9 new     NaN  35.018083  ...    NaN   \n",
      "1782  Carmel  Beit Oren      Beit Oren Far 9     NaN  34.999244  ...    NaN   \n",
      "1804  Carmel  Beit Oren      Beit Oren Far 8     NaN  35.015731  ...    NaN   \n",
      "1827  Carmel  Beit Oren      Beit Oren Far 9     NaN  34.999244  ...    NaN   \n",
      "1848  Carmel  Beit Oren      Beit Oren Far 9     NaN  34.999244  ...    NaN   \n",
      "1859  Carmel  Beit Oren      Beit Oren Far 9     NaN  34.999244  ...    NaN   \n",
      "1866  Carmel  Beit Oren  Beit Oren Far 9 new     NaN  35.018083  ...    NaN   \n",
      "1868  Carmel  Beit Oren      Beit Oren Far 9     NaN  34.999244  ...    NaN   \n",
      "1870  Carmel  Beit Oren      Beit Oren Far 8     NaN  35.015731  ...    NaN   \n",
      "1906  Carmel  Beit Oren  Beit Oren Far 9 new     NaN  35.018083  ...    NaN   \n",
      "1924  Carmel  Beit Oren      Beit Oren Far 9     NaN  34.999244  ...    NaN   \n",
      "1927  Carmel  Beit Oren  Beit Oren Far 9 new     NaN  35.018083  ...    NaN   \n",
      "\n",
      "     land_use interaction  protocol.version  established  SPECIES_CODE  \\\n",
      "1666      NaN         NaN               NaN          NaN       alpswi1   \n",
      "1669      NaN         NaN               NaN          NaN       cetwar1   \n",
      "1678      NaN         NaN               NaN          NaN       grscuc1   \n",
      "1682      NaN         NaN               NaN          NaN        rocpig   \n",
      "1687      NaN         NaN               NaN          NaN       hoocro1   \n",
      "1690      NaN         NaN               NaN          NaN       hoocro1   \n",
      "1701      NaN         NaN               NaN          NaN       eurjay1   \n",
      "1709      NaN         NaN               NaN          NaN       gretit1   \n",
      "1712      NaN         NaN               NaN          NaN       comred2   \n",
      "1724      NaN         NaN               NaN          NaN        eucdov   \n",
      "1741      NaN         NaN               NaN          NaN       palsun2   \n",
      "1748      NaN         NaN               NaN          NaN       sarwar1   \n",
      "1766      NaN         NaN               NaN          NaN       whsbul1   \n",
      "1778      NaN         NaN               NaN          NaN        eucdov   \n",
      "1782      NaN         NaN               NaN          NaN       winwre4   \n",
      "1804      NaN         NaN               NaN          NaN       eurjay1   \n",
      "1827      NaN         NaN               NaN          NaN        chukar   \n",
      "1848      NaN         NaN               NaN          NaN       eurjay1   \n",
      "1859      NaN         NaN               NaN          NaN       palsun2   \n",
      "1866      NaN         NaN               NaN          NaN       winwre4   \n",
      "1868      NaN         NaN               NaN          NaN        eurbla   \n",
      "1870      NaN         NaN               NaN          NaN        eurbla   \n",
      "1906      NaN         NaN               NaN          NaN       ruewar1   \n",
      "1924      NaN         NaN               NaN          NaN       sarwar1   \n",
      "1927      NaN         NaN               NaN          NaN        eurbla   \n",
      "\n",
      "      count_under_250 date_y monitors_name_y     _merge  \n",
      "1666                1    NaN             NaN  left_only  \n",
      "1669                1    NaN             NaN  left_only  \n",
      "1678                1    NaN             NaN  left_only  \n",
      "1682                1    NaN             NaN  left_only  \n",
      "1687                1    NaN             NaN  left_only  \n",
      "1690                1    NaN             NaN  left_only  \n",
      "1701                1    NaN             NaN  left_only  \n",
      "1709                1    NaN             NaN  left_only  \n",
      "1712                1    NaN             NaN  left_only  \n",
      "1724                1    NaN             NaN  left_only  \n",
      "1741                2    NaN             NaN  left_only  \n",
      "1748                2    NaN             NaN  left_only  \n",
      "1766                2    NaN             NaN  left_only  \n",
      "1778                2    NaN             NaN  left_only  \n",
      "1782                2    NaN             NaN  left_only  \n",
      "1804                4    NaN             NaN  left_only  \n",
      "1827                8    NaN             NaN  left_only  \n",
      "1848                1    NaN             NaN  left_only  \n",
      "1859                3    NaN             NaN  left_only  \n",
      "1866                3    NaN             NaN  left_only  \n",
      "1868                3    NaN             NaN  left_only  \n",
      "1870                3    NaN             NaN  left_only  \n",
      "1906               11    NaN             NaN  left_only  \n",
      "1924               24    NaN             NaN  left_only  \n",
      "1927                7    NaN             NaN  left_only  \n",
      "\n",
      "[25 rows x 43 columns]\n"
     ]
    }
   ],
   "source": [
    "only_in_df1 = merged[merged['_merge']=='left_only']\n",
    "only_in_df2 = merged[merged['_merge']=='right_only']\n",
    "\n",
    "print(only_in_df1)"
   ]
  }
 ],
 "metadata": {
  "kernelspec": {
   "display_name": "base",
   "language": "python",
   "name": "python3"
  },
  "language_info": {
   "codemirror_mode": {
    "name": "ipython",
    "version": 3
   },
   "file_extension": ".py",
   "mimetype": "text/x-python",
   "name": "python",
   "nbconvert_exporter": "python",
   "pygments_lexer": "ipython3",
   "version": "3.12.4"
  }
 },
 "nbformat": 4,
 "nbformat_minor": 5
}
