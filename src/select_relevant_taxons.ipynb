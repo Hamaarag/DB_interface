{
 "cells": [
  {
   "cell_type": "code",
   "execution_count": 2,
   "id": "34c89ad3",
   "metadata": {},
   "outputs": [],
   "source": [
    "import pandas as pd"
   ]
  },
  {
   "cell_type": "code",
   "execution_count": null,
   "id": "42468e1f",
   "metadata": {},
   "outputs": [],
   "source": [
    "trait_shallow = pd.read_csv(\n",
    "    \"../data/20231228_BirdSpeciesTraitTable_SingleHeader_shallow.csv\",\n",
    "    encoding=\"Windows-1255\",\n",
    ")"
   ]
  },
  {
   "cell_type": "code",
   "execution_count": 8,
   "id": "c3a8b6f9",
   "metadata": {},
   "outputs": [
    {
     "data": {
      "application/vnd.microsoft.datawrangler.viewer.v0+json": {
       "columns": [
        {
         "name": "index",
         "rawType": "int64",
         "type": "integer"
        },
        {
         "name": "SCI_NAME",
         "rawType": "object",
         "type": "string"
        },
        {
         "name": "TAXON_ORDER",
         "rawType": "int64",
         "type": "integer"
        },
        {
         "name": "CATEGORY",
         "rawType": "object",
         "type": "string"
        },
        {
         "name": "SPECIES_CODE",
         "rawType": "object",
         "type": "string"
        },
        {
         "name": "PRIMARY_COM_NAME",
         "rawType": "object",
         "type": "string"
        },
        {
         "name": "ORDER1",
         "rawType": "object",
         "type": "string"
        },
        {
         "name": "FAMILY",
         "rawType": "object",
         "type": "string"
        },
        {
         "name": "SPECIES_GROUP",
         "rawType": "object",
         "type": "string"
        },
        {
         "name": "REPORT_AS",
         "rawType": "object",
         "type": "unknown"
        },
        {
         "name": "HebName",
         "rawType": "object",
         "type": "string"
        },
        {
         "name": "AlienInvasive",
         "rawType": "int64",
         "type": "integer"
        },
        {
         "name": "Synanthrope",
         "rawType": "int64",
         "type": "integer"
        },
        {
         "name": "NativeInvasive",
         "rawType": "int64",
         "type": "integer"
        },
        {
         "name": "ConservationStatusWorld",
         "rawType": "object",
         "type": "string"
        },
        {
         "name": "ConservationCodeWorld",
         "rawType": "object",
         "type": "string"
        },
        {
         "name": "ConservationStatusIL2002",
         "rawType": "object",
         "type": "string"
        },
        {
         "name": "ConservationCodeIL2002",
         "rawType": "object",
         "type": "unknown"
        },
        {
         "name": "ConservationStatusIL2018",
         "rawType": "object",
         "type": "string"
        },
        {
         "name": "ConservationCodeIL2018",
         "rawType": "object",
         "type": "unknown"
        },
        {
         "name": "ConservationChange",
         "rawType": "object",
         "type": "string"
        },
        {
         "name": "PresenceIL",
         "rawType": "object",
         "type": "unknown"
        },
        {
         "name": "Resident",
         "rawType": "float64",
         "type": "float"
        },
        {
         "name": "BreedingIL",
         "rawType": "int64",
         "type": "integer"
        },
        {
         "name": "MigrationType._resident",
         "rawType": "float64",
         "type": "float"
        },
        {
         "name": "MigrationType._Long.range.migrant",
         "rawType": "float64",
         "type": "float"
        },
        {
         "name": "MigrationType._short.range.semi.migrant",
         "rawType": "float64",
         "type": "float"
        },
        {
         "name": "MigrationType._nomadic",
         "rawType": "float64",
         "type": "float"
        },
        {
         "name": "ZoogeoZone._Mediterranean.",
         "rawType": "float64",
         "type": "float"
        },
        {
         "name": "ZoogeoZone._Irano.Turanian",
         "rawType": "float64",
         "type": "float"
        },
        {
         "name": "ZoogeoZone._Sudanese",
         "rawType": "float64",
         "type": "float"
        },
        {
         "name": "ZoogeoZone._Alpine",
         "rawType": "float64",
         "type": "float"
        },
        {
         "name": "ZoogeoZone._Saharo.Arabian.",
         "rawType": "float64",
         "type": "float"
        },
        {
         "name": "LandscapeFormation_wet.Habitat",
         "rawType": "float64",
         "type": "float"
        },
        {
         "name": "LandscapeFormation_wide.wadis",
         "rawType": "float64",
         "type": "float"
        },
        {
         "name": "LandscapeFormation_rural.landscape",
         "rawType": "float64",
         "type": "float"
        },
        {
         "name": "LandscapeFormation_Plains.and.Valleys",
         "rawType": "float64",
         "type": "float"
        },
        {
         "name": "LandscapeFormation_Mountainous.area",
         "rawType": "float64",
         "type": "float"
        },
        {
         "name": "LandscapeFormation_cliffs",
         "rawType": "float64",
         "type": "float"
        },
        {
         "name": "LandscapeFormation_rocks.and.stony.ground",
         "rawType": "float64",
         "type": "float"
        },
        {
         "name": "LandscapeFormation_Urban.space",
         "rawType": "float64",
         "type": "float"
        },
        {
         "name": "LandscapeFormation_Sand.dunes",
         "rawType": "float64",
         "type": "float"
        },
        {
         "name": "VegetationFormation_reedbed.and.sedges.",
         "rawType": "float64",
         "type": "float"
        },
        {
         "name": "VegetationFormation_gardens.and.parks.",
         "rawType": "float64",
         "type": "float"
        },
        {
         "name": "VegetationFormation_etsiya.park_forest",
         "rawType": "float64",
         "type": "float"
        },
        {
         "name": "VegetationFormation_forest",
         "rawType": "float64",
         "type": "float"
        },
        {
         "name": "VegetationFormation_Mediterranean.Maquis",
         "rawType": "float64",
         "type": "float"
        },
        {
         "name": "VegetationFormation_low.shrubland.",
         "rawType": "float64",
         "type": "float"
        },
        {
         "name": "VegetationFormation_herbaceous",
         "rawType": "float64",
         "type": "float"
        },
        {
         "name": "VegetationFormation_high.shrubland",
         "rawType": "float64",
         "type": "float"
        },
        {
         "name": "VegetationFormation_plantations",
         "rawType": "float64",
         "type": "float"
        },
        {
         "name": "VegetationFormation_field.crops.",
         "rawType": "float64",
         "type": "float"
        },
        {
         "name": "VegetationDensity._High",
         "rawType": "float64",
         "type": "float"
        },
        {
         "name": "VegetationDensity._Medium",
         "rawType": "float64",
         "type": "float"
        },
        {
         "name": "VegetationDensity._Low",
         "rawType": "float64",
         "type": "float"
        },
        {
         "name": "nest_location_trees",
         "rawType": "float64",
         "type": "float"
        },
        {
         "name": "nest_location_bushes",
         "rawType": "float64",
         "type": "float"
        },
        {
         "name": "nest_location_cliffs",
         "rawType": "float64",
         "type": "float"
        },
        {
         "name": "nest_location_ground",
         "rawType": "float64",
         "type": "float"
        },
        {
         "name": "nest_location_ruins.",
         "rawType": "float64",
         "type": "float"
        },
        {
         "name": "nest_location_dirt.cliffs",
         "rawType": "float64",
         "type": "float"
        },
        {
         "name": "nest_location_reedbed.and.sedges",
         "rawType": "float64",
         "type": "float"
        },
        {
         "name": "nest_location_buildings",
         "rawType": "float64",
         "type": "float"
        },
        {
         "name": "DietType._Omnivore",
         "rawType": "float64",
         "type": "float"
        },
        {
         "name": "DietType._Herbivore",
         "rawType": "float64",
         "type": "float"
        },
        {
         "name": "DietType._Fish",
         "rawType": "float64",
         "type": "float"
        },
        {
         "name": "DietType._Invertebrates",
         "rawType": "float64",
         "type": "float"
        },
        {
         "name": "DietType._Terrestrial.vertebrates",
         "rawType": "float64",
         "type": "float"
        },
        {
         "name": "DietType._Scavenger",
         "rawType": "float64",
         "type": "float"
        },
        {
         "name": "ForagingGround_Land",
         "rawType": "float64",
         "type": "float"
        },
        {
         "name": "ForagingGround_Trees.and.bushes",
         "rawType": "float64",
         "type": "float"
        },
        {
         "name": "ForagingGround_Air",
         "rawType": "float64",
         "type": "float"
        },
        {
         "name": "ForagingGround_Water",
         "rawType": "float64",
         "type": "float"
        },
        {
         "name": "Mass..g.",
         "rawType": "float64",
         "type": "float"
        },
        {
         "name": "HabitatCondensed",
         "rawType": "object",
         "type": "unknown"
        },
        {
         "name": "Reference",
         "rawType": "object",
         "type": "unknown"
        }
       ],
       "conversionMethod": "pd.DataFrame",
       "ref": "76c00370-f3cf-4235-9350-d8cfc5b44816",
       "rows": [
        [
         "0",
         "Streptopelia roseogrisea",
         "2037",
         "species",
         "afcdov1",
         "African Collared-Dove",
         "Columbiformes",
         "Columbidae (Pigeons and Doves)",
         "Pigeons and Doves",
         null,
         "תור צווארון אפריקני",
         "0",
         "0",
         "0",
         "Least concern",
         "LC",
         "Not available",
         null,
         "Not available",
         null,
         "Not applicable",
         "Vagrant",
         "0.0",
         "0",
         null,
         null,
         null,
         null,
         null,
         null,
         null,
         null,
         null,
         null,
         null,
         null,
         null,
         null,
         null,
         null,
         null,
         null,
         null,
         null,
         null,
         null,
         null,
         null,
         null,
         null,
         null,
         null,
         null,
         null,
         null,
         null,
         null,
         null,
         null,
         null,
         null,
         null,
         null,
         null,
         null,
         null,
         null,
         null,
         null,
         null,
         null,
         null,
         null,
         null,
         null,
         null
        ],
        [
         "1",
         "Crex egregia",
         "5241",
         "species",
         "afrcra1",
         "African Crake",
         "Gruiformes",
         "Rallidae (Rails, Gallinules, and Coots)",
         "Rails, Gallinules, and Allies",
         null,
         "מלכישליו אפריקני",
         "0",
         "0",
         "0",
         "Least concern",
         "LC",
         "Not available",
         null,
         "Not available",
         null,
         "Not applicable",
         "Vagrant",
         "0.0",
         "0",
         null,
         null,
         null,
         null,
         null,
         null,
         null,
         null,
         null,
         null,
         null,
         null,
         null,
         null,
         null,
         null,
         null,
         null,
         null,
         null,
         null,
         null,
         null,
         null,
         null,
         null,
         null,
         null,
         null,
         null,
         null,
         null,
         null,
         null,
         null,
         null,
         null,
         null,
         null,
         null,
         null,
         null,
         null,
         null,
         null,
         null,
         null,
         null,
         null,
         null,
         null,
         null
        ],
        [
         "2",
         "Rynchops flavirostris",
         "6684",
         "species",
         "afrski1",
         "African Skimmer",
         "Charadriiformes",
         "Laridae (Gulls, Terns, and Skimmers)",
         "Gulls, Terns, and Skimmers",
         null,
         "גיזרן אפריקני",
         "0",
         "0",
         "0",
         "Near threatened",
         "NT",
         "Not available",
         null,
         "Not available",
         null,
         "Not applicable",
         "Vagrant",
         "0.0",
         "0",
         null,
         null,
         null,
         null,
         null,
         null,
         null,
         null,
         null,
         null,
         null,
         null,
         null,
         null,
         null,
         null,
         null,
         null,
         null,
         null,
         null,
         null,
         null,
         null,
         null,
         null,
         null,
         null,
         null,
         null,
         null,
         null,
         null,
         null,
         null,
         null,
         null,
         null,
         null,
         null,
         null,
         null,
         null,
         null,
         null,
         null,
         null,
         null,
         null,
         null,
         null,
         null
        ],
        [
         "3",
         "Prunella collaris",
         "30832",
         "species",
         "alpacc1",
         "Alpine Accentor",
         "Passeriformes",
         "Prunellidae (Accentors)",
         "Accentors",
         null,
         "סתרי צוקים",
         "0",
         "0",
         "0",
         "Least concern",
         "LC",
         "Not available",
         null,
         "Not available",
         null,
         "Not applicable",
         null,
         null,
         "0",
         null,
         null,
         null,
         null,
         null,
         null,
         null,
         null,
         null,
         null,
         null,
         null,
         null,
         null,
         null,
         null,
         null,
         null,
         null,
         null,
         null,
         null,
         null,
         null,
         null,
         null,
         null,
         null,
         null,
         null,
         null,
         null,
         null,
         null,
         null,
         null,
         null,
         null,
         null,
         null,
         null,
         null,
         null,
         null,
         null,
         null,
         null,
         null,
         null,
         null,
         null,
         null
        ],
        [
         "4",
         "Apus melba",
         "4024",
         "species",
         "alpswi1",
         "Alpine Swift",
         "Caprimulgiformes",
         "Apodidae (Swifts)",
         "Swifts",
         null,
         "סיס הרים",
         "0",
         "0",
         "0",
         "Least concern",
         "LC",
         "Least concern",
         "LC",
         "Data deficient",
         "DD",
         "Not applicable",
         "passage migrant, summer visitor",
         "0.0",
         "1",
         "0.0",
         "1.0",
         "0.0",
         "0.0",
         "1.0",
         "1.0",
         "0.0",
         "0.0",
         "0.0",
         "0.0",
         "0.0",
         "0.0",
         "0.0",
         "1.0",
         "1.0",
         "0.0",
         "0.0",
         "0.0",
         null,
         null,
         null,
         null,
         null,
         null,
         null,
         null,
         null,
         null,
         "0.0",
         "0.0",
         "1.0",
         "0.0",
         "0.0",
         "1.0",
         "0.0",
         "1.0",
         "0.0",
         "0.0",
         "1.0",
         "0.0",
         "0.0",
         "0.0",
         "1.0",
         "0.0",
         "0.0",
         "0.0",
         "0.0",
         "1.0",
         "0.0",
         "71.5",
         "generalist",
         null
        ]
       ],
       "shape": {
        "columns": 75,
        "rows": 5
       }
      },
      "text/html": [
       "<div>\n",
       "<style scoped>\n",
       "    .dataframe tbody tr th:only-of-type {\n",
       "        vertical-align: middle;\n",
       "    }\n",
       "\n",
       "    .dataframe tbody tr th {\n",
       "        vertical-align: top;\n",
       "    }\n",
       "\n",
       "    .dataframe thead th {\n",
       "        text-align: right;\n",
       "    }\n",
       "</style>\n",
       "<table border=\"1\" class=\"dataframe\">\n",
       "  <thead>\n",
       "    <tr style=\"text-align: right;\">\n",
       "      <th></th>\n",
       "      <th>SCI_NAME</th>\n",
       "      <th>TAXON_ORDER</th>\n",
       "      <th>CATEGORY</th>\n",
       "      <th>SPECIES_CODE</th>\n",
       "      <th>PRIMARY_COM_NAME</th>\n",
       "      <th>ORDER1</th>\n",
       "      <th>FAMILY</th>\n",
       "      <th>SPECIES_GROUP</th>\n",
       "      <th>REPORT_AS</th>\n",
       "      <th>HebName</th>\n",
       "      <th>...</th>\n",
       "      <th>DietType._Invertebrates</th>\n",
       "      <th>DietType._Terrestrial.vertebrates</th>\n",
       "      <th>DietType._Scavenger</th>\n",
       "      <th>ForagingGround_Land</th>\n",
       "      <th>ForagingGround_Trees.and.bushes</th>\n",
       "      <th>ForagingGround_Air</th>\n",
       "      <th>ForagingGround_Water</th>\n",
       "      <th>Mass..g.</th>\n",
       "      <th>HabitatCondensed</th>\n",
       "      <th>Reference</th>\n",
       "    </tr>\n",
       "  </thead>\n",
       "  <tbody>\n",
       "    <tr>\n",
       "      <th>0</th>\n",
       "      <td>Streptopelia roseogrisea</td>\n",
       "      <td>2037</td>\n",
       "      <td>species</td>\n",
       "      <td>afcdov1</td>\n",
       "      <td>African Collared-Dove</td>\n",
       "      <td>Columbiformes</td>\n",
       "      <td>Columbidae (Pigeons and Doves)</td>\n",
       "      <td>Pigeons and Doves</td>\n",
       "      <td>NaN</td>\n",
       "      <td>תור צווארון אפריקני</td>\n",
       "      <td>...</td>\n",
       "      <td>NaN</td>\n",
       "      <td>NaN</td>\n",
       "      <td>NaN</td>\n",
       "      <td>NaN</td>\n",
       "      <td>NaN</td>\n",
       "      <td>NaN</td>\n",
       "      <td>NaN</td>\n",
       "      <td>NaN</td>\n",
       "      <td>NaN</td>\n",
       "      <td>NaN</td>\n",
       "    </tr>\n",
       "    <tr>\n",
       "      <th>1</th>\n",
       "      <td>Crex egregia</td>\n",
       "      <td>5241</td>\n",
       "      <td>species</td>\n",
       "      <td>afrcra1</td>\n",
       "      <td>African Crake</td>\n",
       "      <td>Gruiformes</td>\n",
       "      <td>Rallidae (Rails, Gallinules, and Coots)</td>\n",
       "      <td>Rails, Gallinules, and Allies</td>\n",
       "      <td>NaN</td>\n",
       "      <td>מלכישליו אפריקני</td>\n",
       "      <td>...</td>\n",
       "      <td>NaN</td>\n",
       "      <td>NaN</td>\n",
       "      <td>NaN</td>\n",
       "      <td>NaN</td>\n",
       "      <td>NaN</td>\n",
       "      <td>NaN</td>\n",
       "      <td>NaN</td>\n",
       "      <td>NaN</td>\n",
       "      <td>NaN</td>\n",
       "      <td>NaN</td>\n",
       "    </tr>\n",
       "    <tr>\n",
       "      <th>2</th>\n",
       "      <td>Rynchops flavirostris</td>\n",
       "      <td>6684</td>\n",
       "      <td>species</td>\n",
       "      <td>afrski1</td>\n",
       "      <td>African Skimmer</td>\n",
       "      <td>Charadriiformes</td>\n",
       "      <td>Laridae (Gulls, Terns, and Skimmers)</td>\n",
       "      <td>Gulls, Terns, and Skimmers</td>\n",
       "      <td>NaN</td>\n",
       "      <td>גיזרן אפריקני</td>\n",
       "      <td>...</td>\n",
       "      <td>NaN</td>\n",
       "      <td>NaN</td>\n",
       "      <td>NaN</td>\n",
       "      <td>NaN</td>\n",
       "      <td>NaN</td>\n",
       "      <td>NaN</td>\n",
       "      <td>NaN</td>\n",
       "      <td>NaN</td>\n",
       "      <td>NaN</td>\n",
       "      <td>NaN</td>\n",
       "    </tr>\n",
       "    <tr>\n",
       "      <th>3</th>\n",
       "      <td>Prunella collaris</td>\n",
       "      <td>30832</td>\n",
       "      <td>species</td>\n",
       "      <td>alpacc1</td>\n",
       "      <td>Alpine Accentor</td>\n",
       "      <td>Passeriformes</td>\n",
       "      <td>Prunellidae (Accentors)</td>\n",
       "      <td>Accentors</td>\n",
       "      <td>NaN</td>\n",
       "      <td>סתרי צוקים</td>\n",
       "      <td>...</td>\n",
       "      <td>NaN</td>\n",
       "      <td>NaN</td>\n",
       "      <td>NaN</td>\n",
       "      <td>NaN</td>\n",
       "      <td>NaN</td>\n",
       "      <td>NaN</td>\n",
       "      <td>NaN</td>\n",
       "      <td>NaN</td>\n",
       "      <td>NaN</td>\n",
       "      <td>NaN</td>\n",
       "    </tr>\n",
       "    <tr>\n",
       "      <th>4</th>\n",
       "      <td>Apus melba</td>\n",
       "      <td>4024</td>\n",
       "      <td>species</td>\n",
       "      <td>alpswi1</td>\n",
       "      <td>Alpine Swift</td>\n",
       "      <td>Caprimulgiformes</td>\n",
       "      <td>Apodidae (Swifts)</td>\n",
       "      <td>Swifts</td>\n",
       "      <td>NaN</td>\n",
       "      <td>סיס הרים</td>\n",
       "      <td>...</td>\n",
       "      <td>1.0</td>\n",
       "      <td>0.0</td>\n",
       "      <td>0.0</td>\n",
       "      <td>0.0</td>\n",
       "      <td>0.0</td>\n",
       "      <td>1.0</td>\n",
       "      <td>0.0</td>\n",
       "      <td>71.5</td>\n",
       "      <td>generalist</td>\n",
       "      <td>NaN</td>\n",
       "    </tr>\n",
       "  </tbody>\n",
       "</table>\n",
       "<p>5 rows × 75 columns</p>\n",
       "</div>"
      ],
      "text/plain": [
       "                   SCI_NAME  TAXON_ORDER CATEGORY SPECIES_CODE  \\\n",
       "0  Streptopelia roseogrisea         2037  species      afcdov1   \n",
       "1              Crex egregia         5241  species      afrcra1   \n",
       "2     Rynchops flavirostris         6684  species      afrski1   \n",
       "3         Prunella collaris        30832  species      alpacc1   \n",
       "4                Apus melba         4024  species      alpswi1   \n",
       "\n",
       "        PRIMARY_COM_NAME            ORDER1  \\\n",
       "0  African Collared-Dove     Columbiformes   \n",
       "1          African Crake        Gruiformes   \n",
       "2        African Skimmer   Charadriiformes   \n",
       "3        Alpine Accentor     Passeriformes   \n",
       "4           Alpine Swift  Caprimulgiformes   \n",
       "\n",
       "                                    FAMILY                  SPECIES_GROUP  \\\n",
       "0           Columbidae (Pigeons and Doves)              Pigeons and Doves   \n",
       "1  Rallidae (Rails, Gallinules, and Coots)  Rails, Gallinules, and Allies   \n",
       "2     Laridae (Gulls, Terns, and Skimmers)     Gulls, Terns, and Skimmers   \n",
       "3                  Prunellidae (Accentors)                      Accentors   \n",
       "4                        Apodidae (Swifts)                         Swifts   \n",
       "\n",
       "  REPORT_AS              HebName  ...  DietType._Invertebrates  \\\n",
       "0       NaN  תור צווארון אפריקני  ...                      NaN   \n",
       "1       NaN     מלכישליו אפריקני  ...                      NaN   \n",
       "2       NaN        גיזרן אפריקני  ...                      NaN   \n",
       "3       NaN           סתרי צוקים  ...                      NaN   \n",
       "4       NaN             סיס הרים  ...                      1.0   \n",
       "\n",
       "   DietType._Terrestrial.vertebrates  DietType._Scavenger ForagingGround_Land  \\\n",
       "0                                NaN                  NaN                 NaN   \n",
       "1                                NaN                  NaN                 NaN   \n",
       "2                                NaN                  NaN                 NaN   \n",
       "3                                NaN                  NaN                 NaN   \n",
       "4                                0.0                  0.0                 0.0   \n",
       "\n",
       "  ForagingGround_Trees.and.bushes ForagingGround_Air ForagingGround_Water  \\\n",
       "0                             NaN                NaN                  NaN   \n",
       "1                             NaN                NaN                  NaN   \n",
       "2                             NaN                NaN                  NaN   \n",
       "3                             NaN                NaN                  NaN   \n",
       "4                             0.0                1.0                  0.0   \n",
       "\n",
       "  Mass..g. HabitatCondensed Reference  \n",
       "0      NaN              NaN       NaN  \n",
       "1      NaN              NaN       NaN  \n",
       "2      NaN              NaN       NaN  \n",
       "3      NaN              NaN       NaN  \n",
       "4     71.5       generalist       NaN  \n",
       "\n",
       "[5 rows x 75 columns]"
      ]
     },
     "execution_count": 8,
     "metadata": {},
     "output_type": "execute_result"
    }
   ],
   "source": [
    "trait_shallow.head()"
   ]
  },
  {
   "cell_type": "code",
   "execution_count": 9,
   "id": "f3c04317",
   "metadata": {},
   "outputs": [
    {
     "name": "stdout",
     "output_type": "stream",
     "text": [
      "<class 'pandas.core.frame.DataFrame'>\n",
      "RangeIndex: 40 entries, 0 to 39\n",
      "Data columns (total 75 columns):\n",
      " #   Column                                     Non-Null Count  Dtype  \n",
      "---  ------                                     --------------  -----  \n",
      " 0   SCI_NAME                                   40 non-null     object \n",
      " 1   TAXON_ORDER                                40 non-null     int64  \n",
      " 2   CATEGORY                                   40 non-null     object \n",
      " 3   SPECIES_CODE                               40 non-null     object \n",
      " 4   PRIMARY_COM_NAME                           40 non-null     object \n",
      " 5   ORDER1                                     40 non-null     object \n",
      " 6   FAMILY                                     40 non-null     object \n",
      " 7   SPECIES_GROUP                              40 non-null     object \n",
      " 8   REPORT_AS                                  1 non-null      object \n",
      " 9   HebName                                    40 non-null     object \n",
      " 10  AlienInvasive                              40 non-null     int64  \n",
      " 11  Synanthrope                                40 non-null     int64  \n",
      " 12  NativeInvasive                             40 non-null     int64  \n",
      " 13  ConservationStatusWorld                    40 non-null     object \n",
      " 14  ConservationCodeWorld                      40 non-null     object \n",
      " 15  ConservationStatusIL2002                   40 non-null     object \n",
      " 16  ConservationCodeIL2002                     11 non-null     object \n",
      " 17  ConservationStatusIL2018                   40 non-null     object \n",
      " 18  ConservationCodeIL2018                     11 non-null     object \n",
      " 19  ConservationChange                         40 non-null     object \n",
      " 20  PresenceIL                                 34 non-null     object \n",
      " 21  Resident                                   34 non-null     float64\n",
      " 22  BreedingIL                                 40 non-null     int64  \n",
      " 23  MigrationType._resident                    9 non-null      float64\n",
      " 24  MigrationType._Long.range.migrant          9 non-null      float64\n",
      " 25  MigrationType._short.range.semi.migrant    9 non-null      float64\n",
      " 26  MigrationType._nomadic                     9 non-null      float64\n",
      " 27  ZoogeoZone._Mediterranean.                 9 non-null      float64\n",
      " 28  ZoogeoZone._Irano.Turanian                 9 non-null      float64\n",
      " 29  ZoogeoZone._Sudanese                       9 non-null      float64\n",
      " 30  ZoogeoZone._Alpine                         9 non-null      float64\n",
      " 31  ZoogeoZone._Saharo.Arabian.                9 non-null      float64\n",
      " 32  LandscapeFormation_wet.Habitat             9 non-null      float64\n",
      " 33  LandscapeFormation_wide.wadis              9 non-null      float64\n",
      " 34  LandscapeFormation_rural.landscape         9 non-null      float64\n",
      " 35  LandscapeFormation_Plains.and.Valleys      9 non-null      float64\n",
      " 36  LandscapeFormation_Mountainous.area        9 non-null      float64\n",
      " 37  LandscapeFormation_cliffs                  9 non-null      float64\n",
      " 38  LandscapeFormation_rocks.and.stony.ground  9 non-null      float64\n",
      " 39  LandscapeFormation_Urban.space             9 non-null      float64\n",
      " 40  LandscapeFormation_Sand.dunes              9 non-null      float64\n",
      " 41  VegetationFormation_reedbed.and.sedges.    5 non-null      float64\n",
      " 42  VegetationFormation_gardens.and.parks.     5 non-null      float64\n",
      " 43  VegetationFormation_etsiya.park_forest     5 non-null      float64\n",
      " 44  VegetationFormation_forest                 5 non-null      float64\n",
      " 45  VegetationFormation_Mediterranean.Maquis   5 non-null      float64\n",
      " 46  VegetationFormation_low.shrubland.         5 non-null      float64\n",
      " 47  VegetationFormation_herbaceous             5 non-null      float64\n",
      " 48  VegetationFormation_high.shrubland         5 non-null      float64\n",
      " 49  VegetationFormation_plantations            5 non-null      float64\n",
      " 50  VegetationFormation_field.crops.           5 non-null      float64\n",
      " 51  VegetationDensity._High                    9 non-null      float64\n",
      " 52  VegetationDensity._Medium                  9 non-null      float64\n",
      " 53  VegetationDensity._Low                     9 non-null      float64\n",
      " 54  nest_location_trees                        9 non-null      float64\n",
      " 55  nest_location_bushes                       9 non-null      float64\n",
      " 56  nest_location_cliffs                       9 non-null      float64\n",
      " 57  nest_location_ground                       9 non-null      float64\n",
      " 58  nest_location_ruins.                       9 non-null      float64\n",
      " 59  nest_location_dirt.cliffs                  9 non-null      float64\n",
      " 60  nest_location_reedbed.and.sedges           9 non-null      float64\n",
      " 61  nest_location_buildings                    9 non-null      float64\n",
      " 62  DietType._Omnivore                         13 non-null     float64\n",
      " 63  DietType._Herbivore                        13 non-null     float64\n",
      " 64  DietType._Fish                             13 non-null     float64\n",
      " 65  DietType._Invertebrates                    13 non-null     float64\n",
      " 66  DietType._Terrestrial.vertebrates          13 non-null     float64\n",
      " 67  DietType._Scavenger                        13 non-null     float64\n",
      " 68  ForagingGround_Land                        12 non-null     float64\n",
      " 69  ForagingGround_Trees.and.bushes            12 non-null     float64\n",
      " 70  ForagingGround_Air                         12 non-null     float64\n",
      " 71  ForagingGround_Water                       12 non-null     float64\n",
      " 72  Mass..g.                                   13 non-null     float64\n",
      " 73  HabitatCondensed                           10 non-null     object \n",
      " 74  Reference                                  2 non-null      object \n",
      "dtypes: float64(51), int64(5), object(19)\n",
      "memory usage: 23.6+ KB\n"
     ]
    }
   ],
   "source": [
    "trait_shallow.info()"
   ]
  },
  {
   "cell_type": "code",
   "execution_count": null,
   "id": "1dd4dffe",
   "metadata": {},
   "outputs": [],
   "source": [
    "tax_full = pd.read_csv(\"../data/ebird_taxonomy_v2022.csv\", encoding=\"utf-8\")"
   ]
  },
  {
   "cell_type": "code",
   "execution_count": 14,
   "id": "0003f020",
   "metadata": {},
   "outputs": [
    {
     "data": {
      "application/vnd.microsoft.datawrangler.viewer.v0+json": {
       "columns": [
        {
         "name": "index",
         "rawType": "int64",
         "type": "integer"
        },
        {
         "name": "SCIENTIFIC_NAME",
         "rawType": "object",
         "type": "string"
        },
        {
         "name": "TAXON_ORDER",
         "rawType": "int64",
         "type": "integer"
        },
        {
         "name": "CATEGORY",
         "rawType": "object",
         "type": "string"
        },
        {
         "name": "SPECIES_CODE",
         "rawType": "object",
         "type": "string"
        },
        {
         "name": "PRIMARY_COM_NAME",
         "rawType": "object",
         "type": "string"
        },
        {
         "name": "ORDER",
         "rawType": "object",
         "type": "string"
        },
        {
         "name": "FAMILY",
         "rawType": "object",
         "type": "string"
        },
        {
         "name": "REPORT_AS",
         "rawType": "object",
         "type": "unknown"
        },
        {
         "name": "HebName",
         "rawType": "object",
         "type": "string"
        }
       ],
       "conversionMethod": "pd.DataFrame",
       "ref": "51e6b751-3d30-45cc-8e1a-3e5b86f6336a",
       "rows": [
        [
         "0",
         "Passer hemileucus",
         "30925",
         "species",
         "aakspa1",
         "Abd al Kuri Sparrow",
         "Passeriformes",
         "Passeridae",
         null,
         "Abd al Kuri Sparrow"
        ],
        [
         "1",
         "Malacocincla abbotti",
         "25751",
         "species",
         "abbbab1",
         "Abbott's Babbler",
         "Passeriformes",
         "Pellorneidae",
         null,
         "Abbott's Babbler"
        ],
        [
         "2",
         "Papasula abbotti",
         "7124",
         "species",
         "abbboo2",
         "Abbott's Booby",
         "Suliformes",
         "Sulidae",
         null,
         "Abbott's Booby"
        ],
        [
         "3",
         "Arizelopsar femoralis",
         "27349",
         "species",
         "abbsta2",
         "Abbott's Starling",
         "Passeriformes",
         "Sturnidae",
         null,
         "Abbott's Starling"
        ],
        [
         "4",
         "Horornis flavolivaceus",
         "24636",
         "species",
         "abbwar1",
         "Aberrant Bush Warbler",
         "Passeriformes",
         "Scotocercidae",
         null,
         "Aberrant Bush Warbler"
        ]
       ],
       "shape": {
        "columns": 9,
        "rows": 5
       }
      },
      "text/html": [
       "<div>\n",
       "<style scoped>\n",
       "    .dataframe tbody tr th:only-of-type {\n",
       "        vertical-align: middle;\n",
       "    }\n",
       "\n",
       "    .dataframe tbody tr th {\n",
       "        vertical-align: top;\n",
       "    }\n",
       "\n",
       "    .dataframe thead th {\n",
       "        text-align: right;\n",
       "    }\n",
       "</style>\n",
       "<table border=\"1\" class=\"dataframe\">\n",
       "  <thead>\n",
       "    <tr style=\"text-align: right;\">\n",
       "      <th></th>\n",
       "      <th>SCIENTIFIC_NAME</th>\n",
       "      <th>TAXON_ORDER</th>\n",
       "      <th>CATEGORY</th>\n",
       "      <th>SPECIES_CODE</th>\n",
       "      <th>PRIMARY_COM_NAME</th>\n",
       "      <th>ORDER</th>\n",
       "      <th>FAMILY</th>\n",
       "      <th>REPORT_AS</th>\n",
       "      <th>HebName</th>\n",
       "    </tr>\n",
       "  </thead>\n",
       "  <tbody>\n",
       "    <tr>\n",
       "      <th>0</th>\n",
       "      <td>Passer hemileucus</td>\n",
       "      <td>30925</td>\n",
       "      <td>species</td>\n",
       "      <td>aakspa1</td>\n",
       "      <td>Abd al Kuri Sparrow</td>\n",
       "      <td>Passeriformes</td>\n",
       "      <td>Passeridae</td>\n",
       "      <td>NaN</td>\n",
       "      <td>Abd al Kuri Sparrow</td>\n",
       "    </tr>\n",
       "    <tr>\n",
       "      <th>1</th>\n",
       "      <td>Malacocincla abbotti</td>\n",
       "      <td>25751</td>\n",
       "      <td>species</td>\n",
       "      <td>abbbab1</td>\n",
       "      <td>Abbott's Babbler</td>\n",
       "      <td>Passeriformes</td>\n",
       "      <td>Pellorneidae</td>\n",
       "      <td>NaN</td>\n",
       "      <td>Abbott's Babbler</td>\n",
       "    </tr>\n",
       "    <tr>\n",
       "      <th>2</th>\n",
       "      <td>Papasula abbotti</td>\n",
       "      <td>7124</td>\n",
       "      <td>species</td>\n",
       "      <td>abbboo2</td>\n",
       "      <td>Abbott's Booby</td>\n",
       "      <td>Suliformes</td>\n",
       "      <td>Sulidae</td>\n",
       "      <td>NaN</td>\n",
       "      <td>Abbott's Booby</td>\n",
       "    </tr>\n",
       "    <tr>\n",
       "      <th>3</th>\n",
       "      <td>Arizelopsar femoralis</td>\n",
       "      <td>27349</td>\n",
       "      <td>species</td>\n",
       "      <td>abbsta2</td>\n",
       "      <td>Abbott's Starling</td>\n",
       "      <td>Passeriformes</td>\n",
       "      <td>Sturnidae</td>\n",
       "      <td>NaN</td>\n",
       "      <td>Abbott's Starling</td>\n",
       "    </tr>\n",
       "    <tr>\n",
       "      <th>4</th>\n",
       "      <td>Horornis flavolivaceus</td>\n",
       "      <td>24636</td>\n",
       "      <td>species</td>\n",
       "      <td>abbwar1</td>\n",
       "      <td>Aberrant Bush Warbler</td>\n",
       "      <td>Passeriformes</td>\n",
       "      <td>Scotocercidae</td>\n",
       "      <td>NaN</td>\n",
       "      <td>Aberrant Bush Warbler</td>\n",
       "    </tr>\n",
       "  </tbody>\n",
       "</table>\n",
       "</div>"
      ],
      "text/plain": [
       "          SCIENTIFIC_NAME  TAXON_ORDER CATEGORY SPECIES_CODE  \\\n",
       "0       Passer hemileucus        30925  species      aakspa1   \n",
       "1    Malacocincla abbotti        25751  species      abbbab1   \n",
       "2        Papasula abbotti         7124  species      abbboo2   \n",
       "3   Arizelopsar femoralis        27349  species      abbsta2   \n",
       "4  Horornis flavolivaceus        24636  species      abbwar1   \n",
       "\n",
       "        PRIMARY_COM_NAME          ORDER         FAMILY REPORT_AS  \\\n",
       "0    Abd al Kuri Sparrow  Passeriformes     Passeridae       NaN   \n",
       "1       Abbott's Babbler  Passeriformes   Pellorneidae       NaN   \n",
       "2         Abbott's Booby     Suliformes        Sulidae       NaN   \n",
       "3      Abbott's Starling  Passeriformes      Sturnidae       NaN   \n",
       "4  Aberrant Bush Warbler  Passeriformes  Scotocercidae       NaN   \n",
       "\n",
       "                 HebName  \n",
       "0    Abd al Kuri Sparrow  \n",
       "1       Abbott's Babbler  \n",
       "2         Abbott's Booby  \n",
       "3      Abbott's Starling  \n",
       "4  Aberrant Bush Warbler  "
      ]
     },
     "execution_count": 14,
     "metadata": {},
     "output_type": "execute_result"
    }
   ],
   "source": [
    "tax_full.head()"
   ]
  },
  {
   "cell_type": "code",
   "execution_count": 15,
   "id": "77d795d1",
   "metadata": {},
   "outputs": [
    {
     "name": "stdout",
     "output_type": "stream",
     "text": [
      "<class 'pandas.core.frame.DataFrame'>\n",
      "RangeIndex: 16860 entries, 0 to 16859\n",
      "Data columns (total 9 columns):\n",
      " #   Column            Non-Null Count  Dtype \n",
      "---  ------            --------------  ----- \n",
      " 0   SCIENTIFIC_NAME   16860 non-null  object\n",
      " 1   TAXON_ORDER       16860 non-null  int64 \n",
      " 2   CATEGORY          16860 non-null  object\n",
      " 3   SPECIES_CODE      16860 non-null  object\n",
      " 4   PRIMARY_COM_NAME  16860 non-null  object\n",
      " 5   ORDER             16858 non-null  object\n",
      " 6   FAMILY            16847 non-null  object\n",
      " 7   REPORT_AS         3794 non-null   object\n",
      " 8   HebName           16860 non-null  object\n",
      "dtypes: int64(1), object(8)\n",
      "memory usage: 1.2+ MB\n"
     ]
    }
   ],
   "source": [
    "tax_full.info()"
   ]
  },
  {
   "cell_type": "code",
   "execution_count": 37,
   "id": "ee9f9c7b",
   "metadata": {},
   "outputs": [],
   "source": [
    "# perform a left join between tax_full and trait_shallow\n",
    "tax_shallow = tax_full.merge(\n",
    "    trait_shallow[\"SPECIES_CODE\"],\n",
    "    how=\"inner\",\n",
    "    on=\"SPECIES_CODE\")"
   ]
  },
  {
   "cell_type": "code",
   "execution_count": 39,
   "id": "ba857365",
   "metadata": {},
   "outputs": [
    {
     "name": "stdout",
     "output_type": "stream",
     "text": [
      "<class 'pandas.core.frame.DataFrame'>\n",
      "RangeIndex: 40 entries, 0 to 39\n",
      "Data columns (total 9 columns):\n",
      " #   Column            Non-Null Count  Dtype \n",
      "---  ------            --------------  ----- \n",
      " 0   SCIENTIFIC_NAME   40 non-null     object\n",
      " 1   TAXON_ORDER       40 non-null     int64 \n",
      " 2   CATEGORY          40 non-null     object\n",
      " 3   SPECIES_CODE      40 non-null     object\n",
      " 4   PRIMARY_COM_NAME  40 non-null     object\n",
      " 5   ORDER             40 non-null     object\n",
      " 6   FAMILY            40 non-null     object\n",
      " 7   REPORT_AS         2 non-null      object\n",
      " 8   HebName           40 non-null     object\n",
      "dtypes: int64(1), object(8)\n",
      "memory usage: 2.9+ KB\n"
     ]
    }
   ],
   "source": [
    "tax_shallow.info()"
   ]
  },
  {
   "cell_type": "code",
   "execution_count": 41,
   "id": "a5a270f0",
   "metadata": {},
   "outputs": [],
   "source": [
    "unmatched_rows = pd.merge(\n",
    "    trait_shallow,\n",
    "    tax_full,\n",
    "    how=\"left\",\n",
    "    on=\"SPECIES_CODE\",\n",
    "    indicator=True,\n",
    ")\n",
    "unmatched_rows = unmatched_rows[unmatched_rows[\"_merge\"] == \"left_only\"]"
   ]
  },
  {
   "cell_type": "code",
   "execution_count": 42,
   "id": "b3d3cc7c",
   "metadata": {},
   "outputs": [
    {
     "data": {
      "application/vnd.microsoft.datawrangler.viewer.v0+json": {
       "columns": [
        {
         "name": "index",
         "rawType": "int64",
         "type": "integer"
        },
        {
         "name": "SCI_NAME",
         "rawType": "object",
         "type": "string"
        },
        {
         "name": "TAXON_ORDER_x",
         "rawType": "int64",
         "type": "integer"
        },
        {
         "name": "CATEGORY_x",
         "rawType": "object",
         "type": "string"
        },
        {
         "name": "SPECIES_CODE",
         "rawType": "object",
         "type": "string"
        },
        {
         "name": "PRIMARY_COM_NAME_x",
         "rawType": "object",
         "type": "string"
        },
        {
         "name": "ORDER1",
         "rawType": "object",
         "type": "string"
        },
        {
         "name": "FAMILY_x",
         "rawType": "object",
         "type": "string"
        },
        {
         "name": "SPECIES_GROUP",
         "rawType": "object",
         "type": "string"
        },
        {
         "name": "REPORT_AS_x",
         "rawType": "object",
         "type": "string"
        },
        {
         "name": "HebName_x",
         "rawType": "object",
         "type": "string"
        }
       ],
       "conversionMethod": "pd.DataFrame",
       "ref": "b536cc0f-d978-40fb-8ada-c55738c7d21f",
       "rows": [],
       "shape": {
        "columns": 10,
        "rows": 0
       }
      },
      "text/html": [
       "<div>\n",
       "<style scoped>\n",
       "    .dataframe tbody tr th:only-of-type {\n",
       "        vertical-align: middle;\n",
       "    }\n",
       "\n",
       "    .dataframe tbody tr th {\n",
       "        vertical-align: top;\n",
       "    }\n",
       "\n",
       "    .dataframe thead th {\n",
       "        text-align: right;\n",
       "    }\n",
       "</style>\n",
       "<table border=\"1\" class=\"dataframe\">\n",
       "  <thead>\n",
       "    <tr style=\"text-align: right;\">\n",
       "      <th></th>\n",
       "      <th>SCI_NAME</th>\n",
       "      <th>TAXON_ORDER_x</th>\n",
       "      <th>CATEGORY_x</th>\n",
       "      <th>SPECIES_CODE</th>\n",
       "      <th>PRIMARY_COM_NAME_x</th>\n",
       "      <th>ORDER1</th>\n",
       "      <th>FAMILY_x</th>\n",
       "      <th>SPECIES_GROUP</th>\n",
       "      <th>REPORT_AS_x</th>\n",
       "      <th>HebName_x</th>\n",
       "    </tr>\n",
       "  </thead>\n",
       "  <tbody>\n",
       "  </tbody>\n",
       "</table>\n",
       "</div>"
      ],
      "text/plain": [
       "Empty DataFrame\n",
       "Columns: [SCI_NAME, TAXON_ORDER_x, CATEGORY_x, SPECIES_CODE, PRIMARY_COM_NAME_x, ORDER1, FAMILY_x, SPECIES_GROUP, REPORT_AS_x, HebName_x]\n",
       "Index: []"
      ]
     },
     "execution_count": 42,
     "metadata": {},
     "output_type": "execute_result"
    }
   ],
   "source": [
    "unmatched_rows.iloc[:,0:10]"
   ]
  },
  {
   "cell_type": "code",
   "execution_count": 43,
   "id": "0bffdccf",
   "metadata": {},
   "outputs": [],
   "source": [
    "tax_shallow.to_csv(\"../data/ebird_taxonomy_v2022_shallow.csv\", encoding=\"utf-8\", index=False)"
   ]
  }
 ],
 "metadata": {
  "kernelspec": {
   "display_name": "base",
   "language": "python",
   "name": "python3"
  },
  "language_info": {
   "codemirror_mode": {
    "name": "ipython",
    "version": 3
   },
   "file_extension": ".py",
   "mimetype": "text/x-python",
   "name": "python",
   "nbconvert_exporter": "python",
   "pygments_lexer": "ipython3",
   "version": "3.12.4"
  }
 },
 "nbformat": 4,
 "nbformat_minor": 5
}
